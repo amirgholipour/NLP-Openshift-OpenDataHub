{
 "cells": [
  {
   "cell_type": "code",
   "execution_count": 1,
   "id": "ba64386d-f272-4701-8b47-26eedeb69826",
   "metadata": {
    "execution": {
     "iopub.execute_input": "2021-10-29T01:36:58.647675Z",
     "iopub.status.busy": "2021-10-29T01:36:58.646672Z",
     "iopub.status.idle": "2021-10-29T01:37:02.867626Z",
     "shell.execute_reply": "2021-10-29T01:37:02.866827Z"
    },
    "papermill": {
     "duration": 4.267137,
     "end_time": "2021-10-29T01:37:02.867820",
     "exception": false,
     "start_time": "2021-10-29T01:36:58.600683",
     "status": "completed"
    },
    "tags": []
   },
   "outputs": [],
   "source": [
    "import os\n",
    "import sys\n",
    "# sys.path is a list of absolute path strings\n",
    "sys.path.append('/opt/app-root/src/anz_ml_project/')\n",
    "import sys\n",
    "# sys.path is a list of absolute path strings\n",
    "sys.path.append('/opt/app-root/src/anz_ml_project/')\n",
    "\n",
    "from src.modules.build_model import BuildModel\n",
    "\n",
    "\n",
    "from klepto.archives import file_archive\n",
    "\n",
    "from minio import Minio\n",
    "import joblib"
   ]
  },
  {
   "cell_type": "code",
   "execution_count": 2,
   "id": "99627a8d-52a8-4b73-841b-d581f505635b",
   "metadata": {
    "execution": {
     "iopub.execute_input": "2021-10-29T01:37:02.889118Z",
     "iopub.status.busy": "2021-10-29T01:37:02.887775Z",
     "iopub.status.idle": "2021-10-29T01:37:03.205680Z",
     "shell.execute_reply": "2021-10-29T01:37:03.206337Z"
    },
    "papermill": {
     "duration": 0.330177,
     "end_time": "2021-10-29T01:37:03.206545",
     "exception": false,
     "start_time": "2021-10-29T01:37:02.876368",
     "status": "completed"
    },
    "tags": []
   },
   "outputs": [],
   "source": [
    "db1 = file_archive('variables-step2.pkl')\n",
    "db1.load()\n",
    "\n"
   ]
  },
  {
   "cell_type": "code",
   "execution_count": 3,
   "id": "de28a810-4937-4f79-9bc2-e9d20733eed6",
   "metadata": {
    "execution": {
     "iopub.execute_input": "2021-10-29T01:37:03.226902Z",
     "iopub.status.busy": "2021-10-29T01:37:03.226073Z",
     "iopub.status.idle": "2021-10-29T01:37:04.602809Z",
     "shell.execute_reply": "2021-10-29T01:37:04.603146Z"
    },
    "papermill": {
     "duration": 1.390837,
     "end_time": "2021-10-29T01:37:04.603310",
     "exception": false,
     "start_time": "2021-10-29T01:37:03.212473",
     "status": "completed"
    },
    "tags": []
   },
   "outputs": [
    {
     "name": "stdout",
     "output_type": "stream",
     "text": [
      "Model: \"sequential\"\n",
      "_________________________________________________________________\n",
      "Layer (type)                 Output Shape              Param #   \n",
      "=================================================================\n",
      "embedding (Embedding)        (None, 348, 50)           369350    \n",
      "_________________________________________________________________\n",
      "bidirectional (Bidirectional (None, 348, 200)          120800    \n",
      "_________________________________________________________________\n",
      "bidirectional_1 (Bidirection (None, 512)               935936    \n",
      "_________________________________________________________________\n",
      "dense (Dense)                (None, 11)                5643      \n",
      "=================================================================\n",
      "Total params: 1,431,729\n",
      "Trainable params: 1,431,729\n",
      "Non-trainable params: 0\n",
      "_________________________________________________________________\n"
     ]
    }
   ],
   "source": [
    "model = BuildModel(WORD_INDEX=db1['word_index'], MAX_SEQUENCE_LENGTH=db1['MAX_SEQUENCE_LENGTH'] , EMWEIGHTS=[]).SetupModel()"
   ]
  },
  {
   "cell_type": "code",
   "execution_count": 4,
   "id": "434d83ac-8506-401b-9666-d3827396f629",
   "metadata": {
    "execution": {
     "iopub.execute_input": "2021-10-29T01:37:04.614761Z",
     "iopub.status.busy": "2021-10-29T01:37:04.614318Z",
     "iopub.status.idle": "2021-10-29T01:37:04.638576Z",
     "shell.execute_reply": "2021-10-29T01:37:04.638170Z"
    },
    "papermill": {
     "duration": 0.031871,
     "end_time": "2021-10-29T01:37:04.638680",
     "exception": false,
     "start_time": "2021-10-29T01:37:04.606809",
     "status": "completed"
    },
    "tags": []
   },
   "outputs": [],
   "source": [
    "model.save('model.h5')"
   ]
  },
  {
   "cell_type": "code",
   "execution_count": null,
   "id": "ef253e5c-10e5-4323-8da9-1e2b876ecb96",
   "metadata": {
    "papermill": {
     "duration": 0.003132,
     "end_time": "2021-10-29T01:37:04.645116",
     "exception": false,
     "start_time": "2021-10-29T01:37:04.641984",
     "status": "completed"
    },
    "tags": []
   },
   "outputs": [],
   "source": []
  }
 ],
 "metadata": {
  "kernelspec": {
   "display_name": "Python 3",
   "language": "python",
   "name": "python3"
  },
  "language_info": {
   "codemirror_mode": {
    "name": "ipython",
    "version": 3
   },
   "file_extension": ".py",
   "mimetype": "text/x-python",
   "name": "python",
   "nbconvert_exporter": "python",
   "pygments_lexer": "ipython3",
   "version": "3.9.7"
  },
  "papermill": {
   "default_parameters": {},
   "duration": 8.061412,
   "end_time": "2021-10-29T01:37:05.355501",
   "environment_variables": {},
   "exception": null,
   "input_path": "/opt/app-root/src/anz_ml_project/notebooks/text_classification_notebooks/pipeline/design-model.ipynb",
   "output_path": "/opt/app-root/src/anz_ml_project/notebooks/text_classification_notebooks/pipeline/design-model.ipynb",
   "parameters": {},
   "start_time": "2021-10-29T01:36:57.294089",
   "version": "2.3.3"
  }
 },
 "nbformat": 4,
 "nbformat_minor": 5
}