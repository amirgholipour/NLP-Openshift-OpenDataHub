{
 "cells": [
  {
   "cell_type": "code",
   "execution_count": 17,
   "id": "8b7610d6-0ad9-4a92-9c9f-cc38e9ae3ff7",
   "metadata": {},
   "outputs": [],
   "source": [
    "import os\n",
    "import sys\n",
    "# sys.path is a list of absolute path strings\n",
    "sys.path.append('/opt/app-root/src/anz_ml_project/')\n",
    "\n",
    "from klepto.archives import file_archive\n",
    "from src.features.build_features import BuildFeatures\n",
    "import joblib"
   ]
  },
  {
   "cell_type": "code",
   "execution_count": 18,
   "id": "4ee91a38-24f4-4e5a-9d03-5f4026a0c85b",
   "metadata": {},
   "outputs": [],
   "source": [
    "\n",
    "db = file_archive('variables-step1.pkl')\n",
    "db.load()\n",
    "# db['train_data'] = train_data\n",
    "# db['test_data'] = test_data\n",
    "# db['train_labels'] = train_labels\n",
    "# db['test_labels'] = test_labels\n",
    "# db['enc'] = enc"
   ]
  },
  {
   "cell_type": "code",
   "execution_count": 19,
   "id": "a0a1d293-a237-4ca7-a2d2-3a255e7bd921",
   "metadata": {},
   "outputs": [
    {
     "data": {
      "text/plain": [
       "1924    attended brown make college alabama month with...\n",
       "1155    people calling say going jail even got husband...\n",
       "491     already receiving confirmation mortgage paymen...\n",
       "63      mortgage sold barrington mortgage service 2014...\n",
       "1658    one half year ago financed primary residence q...\n",
       "                              ...                        \n",
       "379     received many call debt collector point change...\n",
       "1186    family work received call scatter claiming ver...\n",
       "1451    telephone number called cell phone time answer...\n",
       "883     received letter stating owe collection pal amo...\n",
       "114     discussing unrelated business matter current l...\n",
       "Name: consumer_complaint_narrative, Length: 1600, dtype: object"
      ]
     },
     "execution_count": 19,
     "metadata": {},
     "output_type": "execute_result"
    }
   ],
   "source": [
    "db['train_data']"
   ]
  },
  {
   "cell_type": "code",
   "execution_count": 20,
   "id": "97783ed7-0157-4839-bbb0-310e9802fc00",
   "metadata": {},
   "outputs": [],
   "source": [
    "BFCLASS = BuildFeatures(TRAIN_DATA=db['train_data'],TEST_DATA=db['test_data'],TRAIN_LABELS=db['train_labels'],TEST_LABELS=db['test_labels'],S3BucketName = \"raw-data-saeed\", GloveData=\"glove.6B.50d.txt\",EMBEDDING_DIM=50, WEIGHT_FLAG = False,MLFLOW_S3_ENDPOINT_URL = \"minio-ml-workshop:9000\",AWS_ACCESS_KEY_ID='minio',AWS_SECRET_ACCESS_KEY = 'minio123',SECURE = False)"
   ]
  },
  {
   "cell_type": "code",
   "execution_count": 21,
   "id": "3f200af5-5a53-469e-90eb-525b36569df1",
   "metadata": {},
   "outputs": [
    {
     "name": "stdout",
     "output_type": "stream",
     "text": [
      "Maximum Sequence length is 348 .\n",
      "Found 7424 unique tokens.\n",
      "Shape of train data tensor: (1600, 348)\n",
      "Shape of train label tensor: (1600, 11)\n",
      "Shape of test label tensor: (400, 11)\n"
     ]
    }
   ],
   "source": [
    "train_data,test_data,train_labels , test_labels,word_index,tokenizer,MAX_SEQUENCE_LENGTH = BFCLASS.PreProcessingTextData()"
   ]
  },
  {
   "cell_type": "code",
   "execution_count": null,
   "id": "fb193493-bf31-435e-b63e-98a83a79e71c",
   "metadata": {},
   "outputs": [],
   "source": [
    "joblib.dump(tokenizer, 'tokenizer.pkl')  "
   ]
  },
  {
   "cell_type": "code",
   "execution_count": null,
   "id": "0543243d-2a51-43a7-a2ad-944e60c4da79",
   "metadata": {},
   "outputs": [],
   "source": [
    "from klepto.archives import file_archive\n",
    "db = file_archive('variables-step2.pkl')\n",
    "db['train_data'] = train_data\n",
    "db['test_data'] = test_data\n",
    "db['train_labels'] = train_labels\n",
    "db['test_labels'] = test_labels\n",
    "\n",
    "db['word_index'] = word_index\n",
    "db['MAX_SEQUENCE_LENGTH'] = MAX_SEQUENCE_LENGTH\n",
    "\n",
    "db.dump()"
   ]
  }
 ],
 "metadata": {
  "kernelspec": {
   "display_name": "Python 3",
   "language": "python",
   "name": "python3"
  },
  "language_info": {
   "codemirror_mode": {
    "name": "ipython",
    "version": 3
   },
   "file_extension": ".py",
   "mimetype": "text/x-python",
   "name": "python",
   "nbconvert_exporter": "python",
   "pygments_lexer": "ipython3",
   "version": "3.9.7"
  }
 },
 "nbformat": 4,
 "nbformat_minor": 5
}
