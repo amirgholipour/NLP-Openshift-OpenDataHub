{
 "cells": [
  {
   "cell_type": "code",
   "execution_count": 1,
   "id": "464f3bc4-80b4-451b-b643-092a7ccd9794",
   "metadata": {
    "execution": {
     "iopub.execute_input": "2021-10-29T01:36:44.282318Z",
     "iopub.status.busy": "2021-10-29T01:36:44.280876Z",
     "iopub.status.idle": "2021-10-29T01:36:46.201837Z",
     "shell.execute_reply": "2021-10-29T01:36:46.200947Z"
    },
    "papermill": {
     "duration": 1.942918,
     "end_time": "2021-10-29T01:36:46.202001",
     "exception": false,
     "start_time": "2021-10-29T01:36:44.259083",
     "status": "completed"
    },
    "tags": []
   },
   "outputs": [],
   "source": [
    "import os\n",
    "import sys\n",
    "# sys.path is a list of absolute path strings\n",
    "sys.path.append('/opt/app-root/src/anz_ml_project/')\n",
    "from src.loadingdata.read_dataset import ReadData\n",
    "from klepto.archives import file_archive\n",
    "\n",
    "from minio import Minio\n",
    "import joblib"
   ]
  },
  {
   "cell_type": "code",
   "execution_count": 2,
   "id": "6fe1f0c7-00fe-4391-b130-1abe66bf1ede",
   "metadata": {
    "execution": {
     "iopub.execute_input": "2021-10-29T01:36:46.248877Z",
     "iopub.status.busy": "2021-10-29T01:36:46.247984Z",
     "iopub.status.idle": "2021-10-29T01:36:46.251628Z",
     "shell.execute_reply": "2021-10-29T01:36:46.250656Z"
    },
    "papermill": {
     "duration": 0.041392,
     "end_time": "2021-10-29T01:36:46.251789",
     "exception": false,
     "start_time": "2021-10-29T01:36:46.210397",
     "status": "completed"
    },
    "tags": []
   },
   "outputs": [],
   "source": [
    "# s3_bucket_name = \"raw-data-saeed\"\n",
    "# file_name=\"large_cc_data.csv\"\n",
    "from klepto.archives import file_archive\n",
    "\n",
    "# db = file_archive('variables-step1.pkl')\n",
    "# db.load()\n",
    "os.environ[\"S3_BUCKET_NAME\"] = 'raw-data-saeed'\n",
    "os.environ[\"FILE_NAME\"] = 'data.csv'\n",
    "\n"
   ]
  },
  {
   "cell_type": "code",
   "execution_count": 3,
   "id": "818fe841-c3d2-4312-bd81-c2e8c311cbcc",
   "metadata": {
    "execution": {
     "iopub.execute_input": "2021-10-29T01:36:46.273447Z",
     "iopub.status.busy": "2021-10-29T01:36:46.272577Z",
     "iopub.status.idle": "2021-10-29T01:36:46.275356Z",
     "shell.execute_reply": "2021-10-29T01:36:46.274579Z"
    },
    "papermill": {
     "duration": 0.016169,
     "end_time": "2021-10-29T01:36:46.275524",
     "exception": false,
     "start_time": "2021-10-29T01:36:46.259355",
     "status": "completed"
    },
    "tags": []
   },
   "outputs": [],
   "source": [
    "def get_s3_server():\n",
    "    minioClient = Minio('minio-ml-workshop:9000',\n",
    "                    access_key='minio',\n",
    "                    secret_key='minio123',\n",
    "                    secure=False)\n",
    "\n",
    "    return minioClient\n",
    "\n",
    "client = get_s3_server()\n"
   ]
  },
  {
   "cell_type": "code",
   "execution_count": 4,
   "id": "9fcb67f3-b348-43fd-9e98-b4e87e42c947",
   "metadata": {
    "execution": {
     "iopub.execute_input": "2021-10-29T01:36:46.299173Z",
     "iopub.status.busy": "2021-10-29T01:36:46.298389Z",
     "iopub.status.idle": "2021-10-29T01:36:46.378128Z",
     "shell.execute_reply": "2021-10-29T01:36:46.377403Z"
    },
    "papermill": {
     "duration": 0.095298,
     "end_time": "2021-10-29T01:36:46.378298",
     "exception": false,
     "start_time": "2021-10-29T01:36:46.283000",
     "status": "completed"
    },
    "tags": []
   },
   "outputs": [
    {
     "name": "stdout",
     "output_type": "stream",
     "text": [
      "['Bank account or service' 'Consumer Loan' 'Credit card'\n",
      " 'Credit reporting' 'Debt collection' 'Money transfers' 'Mortgage'\n",
      " 'Other financial service' 'Payday loan' 'Prepaid card' 'Student loan']\n",
      "(array([ 0,  1,  2,  3,  4,  5,  6,  7,  8,  9, 10]), array([119,  90, 184, 242, 436,  22, 400,   2,  26,  10,  69]))\n",
      "(array([ 0,  1,  2,  3,  4,  5,  6,  7,  8,  9, 10]), array([ 30,  22,  46,  61, 109,   5, 100,   1,   7,   2,  17]))\n"
     ]
    }
   ],
   "source": [
    "train_data, test_data, train_labels, test_labels,enc = ReadData(S3BucketName = os.environ[\"S3_BUCKET_NAME\"],FILE_NAME=os.environ[\"FILE_NAME\"]).ReadDataFrameData()"
   ]
  },
  {
   "cell_type": "code",
   "execution_count": 5,
   "id": "4b0a0aae-fe97-4054-88ed-c094a1e5cea3",
   "metadata": {
    "execution": {
     "iopub.execute_input": "2021-10-29T01:36:46.402715Z",
     "iopub.status.busy": "2021-10-29T01:36:46.401791Z",
     "iopub.status.idle": "2021-10-29T01:36:46.415676Z",
     "shell.execute_reply": "2021-10-29T01:36:46.416278Z"
    },
    "papermill": {
     "duration": 0.030335,
     "end_time": "2021-10-29T01:36:46.416479",
     "exception": false,
     "start_time": "2021-10-29T01:36:46.386144",
     "status": "completed"
    },
    "tags": []
   },
   "outputs": [
    {
     "data": {
      "text/plain": [
       "['labelencoder.pkl']"
      ]
     },
     "execution_count": 5,
     "metadata": {},
     "output_type": "execute_result"
    }
   ],
   "source": [
    "joblib.dump(enc, 'labelencoder.pkl')  "
   ]
  },
  {
   "cell_type": "code",
   "execution_count": 6,
   "id": "f7345fdc-d0ed-488e-abab-64ba52969552",
   "metadata": {
    "execution": {
     "iopub.execute_input": "2021-10-29T01:36:46.451551Z",
     "iopub.status.busy": "2021-10-29T01:36:46.450786Z",
     "iopub.status.idle": "2021-10-29T01:36:46.471059Z",
     "shell.execute_reply": "2021-10-29T01:36:46.470249Z"
    },
    "papermill": {
     "duration": 0.049125,
     "end_time": "2021-10-29T01:36:46.471276",
     "exception": false,
     "start_time": "2021-10-29T01:36:46.422151",
     "status": "completed"
    },
    "tags": []
   },
   "outputs": [],
   "source": [
    "from klepto.archives import file_archive\n",
    "db = file_archive('variables-step1.pkl')\n",
    "db['train_data'] = train_data\n",
    "db['test_data'] = test_data\n",
    "db['train_labels'] = train_labels\n",
    "db['test_labels'] = test_labels\n",
    "db['enc'] = enc\n",
    "db.dump()"
   ]
  },
  {
   "cell_type": "code",
   "execution_count": null,
   "id": "ffea10b2-066f-4de1-a298-e9ae641bf7f8",
   "metadata": {
    "papermill": {
     "duration": 0.007233,
     "end_time": "2021-10-29T01:36:46.486052",
     "exception": false,
     "start_time": "2021-10-29T01:36:46.478819",
     "status": "completed"
    },
    "tags": []
   },
   "outputs": [],
   "source": []
  }
 ],
 "metadata": {
  "kernelspec": {
   "display_name": "Python 3",
   "language": "python",
   "name": "python3"
  },
  "language_info": {
   "codemirror_mode": {
    "name": "ipython",
    "version": 3
   },
   "file_extension": ".py",
   "mimetype": "text/x-python",
   "name": "python",
   "nbconvert_exporter": "python",
   "pygments_lexer": "ipython3",
   "version": "3.9.7"
  },
  "papermill": {
   "default_parameters": {},
   "duration": 3.921144,
   "end_time": "2021-10-29T01:36:47.104321",
   "environment_variables": {},
   "exception": null,
   "input_path": "/opt/app-root/src/anz_ml_project/notebooks/text_classification_notebooks/pipeline/data-loading.ipynb",
   "output_path": "/opt/app-root/src/anz_ml_project/notebooks/text_classification_notebooks/pipeline/data-loading.ipynb",
   "parameters": {},
   "start_time": "2021-10-29T01:36:43.183177",
   "version": "2.3.3"
  }
 },
 "nbformat": 4,
 "nbformat_minor": 5
}