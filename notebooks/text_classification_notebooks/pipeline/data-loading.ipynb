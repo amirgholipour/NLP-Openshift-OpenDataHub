{
 "cells": [
  {
   "cell_type": "markdown",
   "id": "23daf383",
   "metadata": {
    "tags": [
     "papermill-error-cell-tag"
    ]
   },
   "source": [
    "<span style=\"color:red; font-family:Helvetica Neue, Helvetica, Arial, sans-serif; font-size:2em;\">An Exception was encountered at '<a href=\"#papermill-error-cell\">In [2]</a>'.</span>"
   ]
  },
  {
   "cell_type": "code",
   "execution_count": 1,
   "id": "464f3bc4-80b4-451b-b643-092a7ccd9794",
   "metadata": {
    "execution": {
     "iopub.execute_input": "2021-10-27T05:02:27.209838Z",
     "iopub.status.busy": "2021-10-27T05:02:27.209316Z",
     "iopub.status.idle": "2021-10-27T05:02:29.931711Z",
     "shell.execute_reply": "2021-10-27T05:02:29.931181Z"
    },
    "papermill": {
     "duration": 2.732106,
     "end_time": "2021-10-27T05:02:29.931829",
     "exception": false,
     "start_time": "2021-10-27T05:02:27.199723",
     "status": "completed"
    },
    "tags": []
   },
   "outputs": [],
   "source": [
    "import os\n",
    "import sys\n",
    "# sys.path is a list of absolute path strings\n",
    "sys.path.append('/opt/app-root/src/anz_ml_project/')\n",
    "from src.loadingdata.read_dataset import ReadData\n",
    "from src.features.build_features import BuildFeatures\n",
    "from src.modules.build_model import BuildModel\n",
    "from src.modules.train_model import MLflow, TrainModel\n",
    "from src.modules.predict_model import Predictor,Transformer,DownloadArtifact"
   ]
  },
  {
   "cell_type": "markdown",
   "id": "3d4f9ced",
   "metadata": {
    "tags": [
     "papermill-error-cell-tag"
    ]
   },
   "source": [
    "<span id=\"papermill-error-cell\" style=\"color:red; font-family:Helvetica Neue, Helvetica, Arial, sans-serif; font-size:2em;\">Execution using papermill encountered an exception here and stopped:</span>"
   ]
  },
  {
   "cell_type": "code",
   "execution_count": 2,
   "id": "6fe1f0c7-00fe-4391-b130-1abe66bf1ede",
   "metadata": {
    "execution": {
     "iopub.execute_input": "2021-10-27T05:02:29.939284Z",
     "iopub.status.busy": "2021-10-27T05:02:29.938666Z",
     "iopub.status.idle": "2021-10-27T05:02:30.243154Z",
     "shell.execute_reply": "2021-10-27T05:02:30.242399Z"
    },
    "papermill": {
     "duration": 0.309542,
     "end_time": "2021-10-27T05:02:30.243490",
     "exception": true,
     "start_time": "2021-10-27T05:02:29.933948",
     "status": "failed"
    },
    "tags": []
   },
   "outputs": [
    {
     "ename": "NameError",
     "evalue": "name 'client' is not defined",
     "output_type": "error",
     "traceback": [
      "\u001b[0;31m---------------------------------------------------------------------------\u001b[0m",
      "\u001b[0;31mNameError\u001b[0m                                 Traceback (most recent call last)",
      "\u001b[0;32m<ipython-input-2-8bf26b23b1a4>\u001b[0m in \u001b[0;36m<module>\u001b[0;34m\u001b[0m\n\u001b[1;32m      4\u001b[0m \u001b[0mfile_name\u001b[0m \u001b[0;34m=\u001b[0m \u001b[0mos\u001b[0m\u001b[0;34m.\u001b[0m\u001b[0menviron\u001b[0m\u001b[0;34m[\u001b[0m\u001b[0;34m\"FILE_NAME\"\u001b[0m\u001b[0;34m]\u001b[0m\u001b[0;34m\u001b[0m\u001b[0;34m\u001b[0m\u001b[0m\n\u001b[1;32m      5\u001b[0m \u001b[0;31m# client = os.getenv('CLIENT_ENV')\u001b[0m\u001b[0;34m\u001b[0m\u001b[0;34m\u001b[0m\u001b[0m\n\u001b[0;32m----> 6\u001b[0;31m \u001b[0mtrain_data\u001b[0m\u001b[0;34m,\u001b[0m \u001b[0mtest_data\u001b[0m\u001b[0;34m,\u001b[0m \u001b[0mtrain_labels\u001b[0m\u001b[0;34m,\u001b[0m \u001b[0mtest_labels\u001b[0m\u001b[0;34m,\u001b[0m\u001b[0menc\u001b[0m \u001b[0;34m=\u001b[0m \u001b[0mReadData\u001b[0m\u001b[0;34m(\u001b[0m\u001b[0mclient\u001b[0m\u001b[0;34m,\u001b[0m\u001b[0mS3BucketName\u001b[0m \u001b[0;34m=\u001b[0m \u001b[0ms3_bucket_name\u001b[0m\u001b[0;34m,\u001b[0m\u001b[0mFILE_NAME\u001b[0m\u001b[0;34m=\u001b[0m\u001b[0mfile_name\u001b[0m\u001b[0;34m)\u001b[0m\u001b[0;34m.\u001b[0m\u001b[0mReadDataFrameData\u001b[0m\u001b[0;34m(\u001b[0m\u001b[0;34m)\u001b[0m\u001b[0;34m\u001b[0m\u001b[0;34m\u001b[0m\u001b[0m\n\u001b[0m",
      "\u001b[0;31mNameError\u001b[0m: name 'client' is not defined"
     ]
    }
   ],
   "source": [
    "# s3_bucket_name = \"raw-data-saeed\"\n",
    "# file_name=\"large_cc_data.csv\"\n",
    "s3_bucket_name = os.environ[\"S3_BUCKET_NAME\"]\n",
    "file_name = os.environ[\"FILE_NAME\"]\n",
    "# client = os.getenv('CLIENT_ENV')\n",
    "train_data, test_data, train_labels, test_labels,enc = ReadData(client,S3BucketName = s3_bucket_name,FILE_NAME=file_name).ReadDataFrameData()"
   ]
  }
 ],
 "metadata": {
  "kernelspec": {
   "display_name": "Python 3",
   "language": "python",
   "name": "python3"
  },
  "language_info": {
   "codemirror_mode": {
    "name": "ipython",
    "version": 3
   },
   "file_extension": ".py",
   "mimetype": "text/x-python",
   "name": "python",
   "nbconvert_exporter": "python",
   "pygments_lexer": "ipython3",
   "version": "3.9.7"
  },
  "papermill": {
   "default_parameters": {},
   "duration": 5.025858,
   "end_time": "2021-10-27T05:02:31.502027",
   "environment_variables": {},
   "exception": true,
   "input_path": "/opt/app-root/src/anz_ml_project/notebooks/text_classification_notebooks/pipeline/data-loading.ipynb",
   "output_path": "/opt/app-root/src/anz_ml_project/notebooks/text_classification_notebooks/pipeline/data-loading.ipynb",
   "parameters": {},
   "start_time": "2021-10-27T05:02:26.476169",
   "version": "2.3.3"
  }
 },
 "nbformat": 4,
 "nbformat_minor": 5
}