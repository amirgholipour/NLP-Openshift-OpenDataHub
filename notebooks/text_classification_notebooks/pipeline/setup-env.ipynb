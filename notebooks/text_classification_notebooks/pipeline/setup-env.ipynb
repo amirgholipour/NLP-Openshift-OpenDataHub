{
 "cells": [
  {
   "cell_type": "code",
   "execution_count": 1,
   "id": "7bdee365-1f77-4ced-8f9f-71333cdbe35b",
   "metadata": {
    "execution": {
     "iopub.execute_input": "2021-10-27T05:02:23.269907Z",
     "iopub.status.busy": "2021-10-27T05:02:23.269486Z",
     "iopub.status.idle": "2021-10-27T05:02:25.421455Z",
     "shell.execute_reply": "2021-10-27T05:02:25.420911Z"
    },
    "papermill": {
     "duration": 2.163981,
     "end_time": "2021-10-27T05:02:25.421580",
     "exception": false,
     "start_time": "2021-10-27T05:02:23.257599",
     "status": "completed"
    },
    "tags": []
   },
   "outputs": [],
   "source": [
    "import os\n",
    "from minio import Minio\n",
    "import mlflow\n",
    "import sys\n",
    "# sys.path is a list of absolute path strings\n",
    "sys.path.append('/opt/app-root/src/anz_ml_project/')\n",
    "\n",
    "from src.modules.train_model import MLflow\n"
   ]
  },
  {
   "cell_type": "markdown",
   "id": "4a2f4f6d-fae5-47ef-8d40-7d0a10c248ef",
   "metadata": {
    "papermill": {
     "duration": 0.004711,
     "end_time": "2021-10-27T05:02:25.431258",
     "exception": false,
     "start_time": "2021-10-27T05:02:25.426547",
     "status": "completed"
    },
    "tags": []
   },
   "source": [
    "# Initialize the config file for mlflow and Minio"
   ]
  },
  {
   "cell_type": "code",
   "execution_count": 2,
   "id": "3b515d16-2681-4fe5-94cb-2633e8c2bc66",
   "metadata": {
    "execution": {
     "iopub.execute_input": "2021-10-27T05:02:25.443912Z",
     "iopub.status.busy": "2021-10-27T05:02:25.443418Z",
     "iopub.status.idle": "2021-10-27T05:02:25.445538Z",
     "shell.execute_reply": "2021-10-27T05:02:25.445103Z"
    },
    "papermill": {
     "duration": 0.009912,
     "end_time": "2021-10-27T05:02:25.445626",
     "exception": false,
     "start_time": "2021-10-27T05:02:25.435714",
     "status": "completed"
    },
    "tags": []
   },
   "outputs": [],
   "source": [
    "\n",
    "HOST = \"http://mlflow:5500\"\n",
    "\n",
    "PROJECT_NAME = \"NlpTc\"\n",
    "EXPERIMENT_NAME = \"NlpLstm\"\n",
    "\n",
    "os.environ['MLFLOW_S3_ENDPOINT_URL']='http://minio-ml-workshop:9000'\n",
    "os.environ['AWS_ACCESS_KEY_ID']='minio'\n",
    "os.environ['AWS_SECRET_ACCESS_KEY']='minio123'\n",
    "os.environ['AWS_REGION']='us-east-1'\n",
    "os.environ['AWS_BUCKET_NAME']='raw-data-saeed'\n"
   ]
  },
  {
   "cell_type": "markdown",
   "id": "62ab1bdb-006e-4114-ab37-d79439cac5d8",
   "metadata": {
    "papermill": {
     "duration": 0.004589,
     "end_time": "2021-10-27T05:02:25.454618",
     "exception": false,
     "start_time": "2021-10-27T05:02:25.450029",
     "status": "completed"
    },
    "tags": []
   },
   "source": [
    "\n",
    "## Define a Function to read from Minio S3 Bucket"
   ]
  },
  {
   "cell_type": "code",
   "execution_count": 3,
   "id": "b0ac8fd9-f4c1-4df8-989d-97e330e603f3",
   "metadata": {
    "execution": {
     "iopub.execute_input": "2021-10-27T05:02:25.466749Z",
     "iopub.status.busy": "2021-10-27T05:02:25.466332Z",
     "iopub.status.idle": "2021-10-27T05:02:25.467971Z",
     "shell.execute_reply": "2021-10-27T05:02:25.468316Z"
    },
    "papermill": {
     "duration": 0.00937,
     "end_time": "2021-10-27T05:02:25.468422",
     "exception": false,
     "start_time": "2021-10-27T05:02:25.459052",
     "status": "completed"
    },
    "tags": []
   },
   "outputs": [],
   "source": [
    "def get_s3_server():\n",
    "    minioClient = Minio('minio-ml-workshop:9000',\n",
    "                    access_key='minio',\n",
    "                    secret_key='minio123',\n",
    "                    secure=False)\n",
    "\n",
    "    return minioClient"
   ]
  },
  {
   "cell_type": "code",
   "execution_count": 4,
   "id": "9560eb47-fdc6-4702-b790-3bee4ac70466",
   "metadata": {
    "execution": {
     "iopub.execute_input": "2021-10-27T05:02:25.484299Z",
     "iopub.status.busy": "2021-10-27T05:02:25.483890Z",
     "iopub.status.idle": "2021-10-27T05:02:25.486029Z",
     "shell.execute_reply": "2021-10-27T05:02:25.486362Z"
    },
    "papermill": {
     "duration": 0.0136,
     "end_time": "2021-10-27T05:02:25.486462",
     "exception": false,
     "start_time": "2021-10-27T05:02:25.472862",
     "status": "completed"
    },
    "tags": []
   },
   "outputs": [
    {
     "data": {
      "text/plain": [
       "<minio.api.Minio at 0x7f020cd345e0>"
      ]
     },
     "execution_count": 4,
     "metadata": {},
     "output_type": "execute_result"
    }
   ],
   "source": [
    "client = get_s3_server()\n",
    "client"
   ]
  },
  {
   "cell_type": "code",
   "execution_count": 5,
   "id": "37ec8ba1-5ccc-4996-9dfa-06578eff6302",
   "metadata": {
    "execution": {
     "iopub.execute_input": "2021-10-27T05:02:25.497907Z",
     "iopub.status.busy": "2021-10-27T05:02:25.497505Z",
     "iopub.status.idle": "2021-10-27T05:02:25.499573Z",
     "shell.execute_reply": "2021-10-27T05:02:25.499164Z"
    },
    "papermill": {
     "duration": 0.008512,
     "end_time": "2021-10-27T05:02:25.499655",
     "exception": false,
     "start_time": "2021-10-27T05:02:25.491143",
     "status": "completed"
    },
    "tags": []
   },
   "outputs": [],
   "source": [
    "# CLIENT_ENV = client\n",
    "# CLIENT_ENV = os.getenv('CLIENT_ENV')\n",
    "# # os.setenv(\"CLIENT_ENV\",client)\n",
    "# os.environ['CLIENT_ENV'] = client\n",
    "\n",
    "# os.environ.putenv( 'CLIENT_ENV', client)"
   ]
  },
  {
   "cell_type": "markdown",
   "id": "16470d5a-4fd0-4680-ad60-0e86ac0df95d",
   "metadata": {
    "papermill": {
     "duration": 0.004591,
     "end_time": "2021-10-27T05:02:25.508911",
     "exception": false,
     "start_time": "2021-10-27T05:02:25.504320",
     "status": "completed"
    },
    "tags": []
   },
   "source": [
    "## SetUp MLFlow to track the model"
   ]
  },
  {
   "cell_type": "code",
   "execution_count": 6,
   "id": "10f66c92-97bf-49ca-a102-1a02f7e4f57a",
   "metadata": {
    "execution": {
     "iopub.execute_input": "2021-10-27T05:02:25.520998Z",
     "iopub.status.busy": "2021-10-27T05:02:25.520603Z",
     "iopub.status.idle": "2021-10-27T05:02:25.736479Z",
     "shell.execute_reply": "2021-10-27T05:02:25.736846Z"
    },
    "papermill": {
     "duration": 0.223379,
     "end_time": "2021-10-27T05:02:25.736985",
     "exception": false,
     "start_time": "2021-10-27T05:02:25.513606",
     "status": "completed"
    },
    "tags": []
   },
   "outputs": [],
   "source": [
    "mlflow = MLflow(mlflow, HOST,EXPERIMENT_NAME).SetUp_Mlflow()"
   ]
  },
  {
   "cell_type": "code",
   "execution_count": null,
   "id": "f9fcbc4d-542d-451c-bfa2-6036c428c0e7",
   "metadata": {
    "papermill": {
     "duration": 0.005117,
     "end_time": "2021-10-27T05:02:25.747403",
     "exception": false,
     "start_time": "2021-10-27T05:02:25.742286",
     "status": "completed"
    },
    "tags": []
   },
   "outputs": [],
   "source": []
  }
 ],
 "metadata": {
  "kernelspec": {
   "display_name": "Python 3",
   "language": "python",
   "name": "python3"
  },
  "language_info": {
   "codemirror_mode": {
    "name": "ipython",
    "version": 3
   },
   "file_extension": ".py",
   "mimetype": "text/x-python",
   "name": "python",
   "nbconvert_exporter": "python",
   "pygments_lexer": "ipython3",
   "version": "3.9.7"
  },
  "papermill": {
   "default_parameters": {},
   "duration": 4.027778,
   "end_time": "2021-10-27T05:02:26.459431",
   "environment_variables": {},
   "exception": null,
   "input_path": "/opt/app-root/src/anz_ml_project/notebooks/text_classification_notebooks/pipeline/setup-env.ipynb",
   "output_path": "/opt/app-root/src/anz_ml_project/notebooks/text_classification_notebooks/pipeline/setup-env.ipynb",
   "parameters": {},
   "start_time": "2021-10-27T05:02:22.431653",
   "version": "2.3.3"
  }
 },
 "nbformat": 4,
 "nbformat_minor": 5
}