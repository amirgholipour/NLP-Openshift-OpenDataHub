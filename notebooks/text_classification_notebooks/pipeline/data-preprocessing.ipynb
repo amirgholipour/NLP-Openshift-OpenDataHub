{
 "cells": [
  {
   "cell_type": "code",
   "execution_count": 1,
   "id": "8b7610d6-0ad9-4a92-9c9f-cc38e9ae3ff7",
   "metadata": {
    "execution": {
     "iopub.execute_input": "2021-10-29T01:36:48.491281Z",
     "iopub.status.busy": "2021-10-29T01:36:48.490204Z",
     "iopub.status.idle": "2021-10-29T01:36:53.006077Z",
     "shell.execute_reply": "2021-10-29T01:36:53.006696Z"
    },
    "papermill": {
     "duration": 4.540576,
     "end_time": "2021-10-29T01:36:53.007060",
     "exception": false,
     "start_time": "2021-10-29T01:36:48.466484",
     "status": "completed"
    },
    "tags": []
   },
   "outputs": [],
   "source": [
    "import os\n",
    "import sys\n",
    "# sys.path is a list of absolute path strings\n",
    "sys.path.append('/opt/app-root/src/anz_ml_project/')\n",
    "\n",
    "from klepto.archives import file_archive\n",
    "from src.features.build_features import BuildFeatures\n",
    "import joblib"
   ]
  },
  {
   "cell_type": "code",
   "execution_count": 2,
   "id": "4ee91a38-24f4-4e5a-9d03-5f4026a0c85b",
   "metadata": {
    "execution": {
     "iopub.execute_input": "2021-10-29T01:36:53.039013Z",
     "iopub.status.busy": "2021-10-29T01:36:53.031937Z",
     "iopub.status.idle": "2021-10-29T01:36:53.389451Z",
     "shell.execute_reply": "2021-10-29T01:36:53.388440Z"
    },
    "papermill": {
     "duration": 0.370551,
     "end_time": "2021-10-29T01:36:53.389670",
     "exception": false,
     "start_time": "2021-10-29T01:36:53.019119",
     "status": "completed"
    },
    "tags": []
   },
   "outputs": [],
   "source": [
    "\n",
    "db1 = file_archive('variables-step1.pkl')\n",
    "db1.load()\n",
    "# db['train_data'] = train_data\n",
    "# db['test_data'] = test_data\n",
    "# db['train_labels'] = train_labels\n",
    "# db['test_labels'] = test_labels\n",
    "# db['enc'] = enc"
   ]
  },
  {
   "cell_type": "code",
   "execution_count": 3,
   "id": "a0a1d293-a237-4ca7-a2d2-3a255e7bd921",
   "metadata": {
    "execution": {
     "iopub.execute_input": "2021-10-29T01:36:53.454551Z",
     "iopub.status.busy": "2021-10-29T01:36:53.453566Z",
     "iopub.status.idle": "2021-10-29T01:36:53.457120Z",
     "shell.execute_reply": "2021-10-29T01:36:53.457882Z"
    },
    "papermill": {
     "duration": 0.059427,
     "end_time": "2021-10-29T01:36:53.458089",
     "exception": false,
     "start_time": "2021-10-29T01:36:53.398662",
     "status": "completed"
    },
    "tags": []
   },
   "outputs": [
    {
     "data": {
      "text/plain": [
       "316     contracted eloanthey would give loan amountall...\n",
       "1565    hello writing complaint appeal well cargo mort...\n",
       "1966    called capital one 2015 bank error resulting a...\n",
       "1853    lender fore sold mortgage nationstar year ago ...\n",
       "1889    and collection agency calling everyday time da...\n",
       "                              ...                        \n",
       "870     discovered inaccurate information placed credi...\n",
       "1211    applied loan loan closed received notice loan ...\n",
       "744     arrangement made finance company due day getti...\n",
       "1667    beginning 2015 informed equifax credit report ...\n",
       "580     nationstar sent statement dated variance range...\n",
       "Name: consumer_complaint_narrative, Length: 1600, dtype: object"
      ]
     },
     "execution_count": 3,
     "metadata": {},
     "output_type": "execute_result"
    }
   ],
   "source": [
    "db1['train_data']"
   ]
  },
  {
   "cell_type": "code",
   "execution_count": 4,
   "id": "97783ed7-0157-4839-bbb0-310e9802fc00",
   "metadata": {
    "execution": {
     "iopub.execute_input": "2021-10-29T01:36:53.487005Z",
     "iopub.status.busy": "2021-10-29T01:36:53.486260Z",
     "iopub.status.idle": "2021-10-29T01:36:53.488841Z",
     "shell.execute_reply": "2021-10-29T01:36:53.488192Z"
    },
    "papermill": {
     "duration": 0.016532,
     "end_time": "2021-10-29T01:36:53.488975",
     "exception": false,
     "start_time": "2021-10-29T01:36:53.472443",
     "status": "completed"
    },
    "tags": []
   },
   "outputs": [],
   "source": [
    "BFCLASS = BuildFeatures(TRAIN_DATA=db1['train_data'],TEST_DATA=db1['test_data'],TRAIN_LABELS=db1['train_labels'],TEST_LABELS=db1['test_labels'],S3BucketName = \"raw-data-saeed\", GloveData=\"glove.6B.50d.txt\",EMBEDDING_DIM=50, WEIGHT_FLAG = False,MLFLOW_S3_ENDPOINT_URL = \"minio-ml-workshop:9000\",AWS_ACCESS_KEY_ID='minio',AWS_SECRET_ACCESS_KEY = 'minio123',SECURE = False)"
   ]
  },
  {
   "cell_type": "code",
   "execution_count": 5,
   "id": "3f200af5-5a53-469e-90eb-525b36569df1",
   "metadata": {
    "execution": {
     "iopub.execute_input": "2021-10-29T01:36:53.578405Z",
     "iopub.status.busy": "2021-10-29T01:36:53.567986Z",
     "iopub.status.idle": "2021-10-29T01:36:54.651052Z",
     "shell.execute_reply": "2021-10-29T01:36:54.649968Z"
    },
    "papermill": {
     "duration": 1.151708,
     "end_time": "2021-10-29T01:36:54.651278",
     "exception": false,
     "start_time": "2021-10-29T01:36:53.499570",
     "status": "completed"
    },
    "tags": []
   },
   "outputs": [
    {
     "name": "stdout",
     "output_type": "stream",
     "text": [
      "Maximum Sequence length is 348 .\n",
      "Found 7386 unique tokens.\n"
     ]
    },
    {
     "name": "stdout",
     "output_type": "stream",
     "text": [
      "Shape of train data tensor: (1600, 348)\n",
      "Shape of train label tensor: (1600, 11)\n",
      "Shape of test label tensor: (400, 11)\n"
     ]
    }
   ],
   "source": [
    "train_data,test_data,train_labels , test_labels,word_index,tokenizer,MAX_SEQUENCE_LENGTH = BFCLASS.PreProcessingTextData()"
   ]
  },
  {
   "cell_type": "code",
   "execution_count": 6,
   "id": "fb193493-bf31-435e-b63e-98a83a79e71c",
   "metadata": {
    "execution": {
     "iopub.execute_input": "2021-10-29T01:36:54.746302Z",
     "iopub.status.busy": "2021-10-29T01:36:54.739535Z",
     "iopub.status.idle": "2021-10-29T01:36:55.141815Z",
     "shell.execute_reply": "2021-10-29T01:36:55.141257Z"
    },
    "papermill": {
     "duration": 0.479185,
     "end_time": "2021-10-29T01:36:55.141926",
     "exception": false,
     "start_time": "2021-10-29T01:36:54.662741",
     "status": "completed"
    },
    "tags": []
   },
   "outputs": [
    {
     "data": {
      "text/plain": [
       "['tokenizer.pkl']"
      ]
     },
     "execution_count": 6,
     "metadata": {},
     "output_type": "execute_result"
    }
   ],
   "source": [
    "joblib.dump(tokenizer, 'tokenizer.pkl')  "
   ]
  },
  {
   "cell_type": "code",
   "execution_count": 7,
   "id": "0543243d-2a51-43a7-a2ad-944e60c4da79",
   "metadata": {
    "execution": {
     "iopub.execute_input": "2021-10-29T01:36:55.165840Z",
     "iopub.status.busy": "2021-10-29T01:36:55.164987Z",
     "iopub.status.idle": "2021-10-29T01:36:55.473396Z",
     "shell.execute_reply": "2021-10-29T01:36:55.474109Z"
    },
    "papermill": {
     "duration": 0.324813,
     "end_time": "2021-10-29T01:36:55.474310",
     "exception": false,
     "start_time": "2021-10-29T01:36:55.149497",
     "status": "completed"
    },
    "tags": []
   },
   "outputs": [],
   "source": [
    "from klepto.archives import file_archive\n",
    "db = file_archive('variables-step2.pkl')\n",
    "db['train_data'] = train_data\n",
    "db['test_data'] = test_data\n",
    "db['train_labels'] = train_labels\n",
    "db['test_labels'] = test_labels\n",
    "\n",
    "db['word_index'] = word_index\n",
    "db['MAX_SEQUENCE_LENGTH'] = MAX_SEQUENCE_LENGTH\n",
    "db['tokenizer'] = tokenizer\n",
    "db['enc'] = db1['enc']\n",
    "db.dump()"
   ]
  },
  {
   "cell_type": "code",
   "execution_count": null,
   "id": "793628d9-aff5-4d81-8942-bd82a65fc7aa",
   "metadata": {
    "papermill": {
     "duration": 0.01019,
     "end_time": "2021-10-29T01:36:55.494201",
     "exception": false,
     "start_time": "2021-10-29T01:36:55.484011",
     "status": "completed"
    },
    "tags": []
   },
   "outputs": [],
   "source": []
  }
 ],
 "metadata": {
  "kernelspec": {
   "display_name": "Python 3",
   "language": "python",
   "name": "python3"
  },
  "language_info": {
   "codemirror_mode": {
    "name": "ipython",
    "version": 3
   },
   "file_extension": ".py",
   "mimetype": "text/x-python",
   "name": "python",
   "nbconvert_exporter": "python",
   "pygments_lexer": "ipython3",
   "version": "3.9.7"
  },
  "papermill": {
   "default_parameters": {},
   "duration": 10.092575,
   "end_time": "2021-10-29T01:36:57.254761",
   "environment_variables": {},
   "exception": null,
   "input_path": "/opt/app-root/src/anz_ml_project/notebooks/text_classification_notebooks/pipeline/data-preprocessing.ipynb",
   "output_path": "/opt/app-root/src/anz_ml_project/notebooks/text_classification_notebooks/pipeline/data-preprocessing.ipynb",
   "parameters": {},
   "start_time": "2021-10-29T01:36:47.162186",
   "version": "2.3.3"
  }
 },
 "nbformat": 4,
 "nbformat_minor": 5
}